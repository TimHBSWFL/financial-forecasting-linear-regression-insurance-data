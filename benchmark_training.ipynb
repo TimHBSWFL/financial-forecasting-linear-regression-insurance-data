{
 "cells": [
  {
   "cell_type": "code",
   "execution_count": 1,
   "id": "2e0643a7",
   "metadata": {},
   "outputs": [],
   "source": [
    "import math\n",
    "import pandas as pd\n",
    "import numpy as np\n",
    "import matplotlib.pyplot as plt"
   ]
  },
  {
   "cell_type": "code",
   "execution_count": 2,
   "id": "db9a78b6",
   "metadata": {},
   "outputs": [
    {
     "name": "stdout",
     "output_type": "stream",
     "text": [
      "(100000, 5)\n"
     ]
    },
    {
     "data": {
      "text/html": [
       "<div>\n",
       "<style scoped>\n",
       "    .dataframe tbody tr th:only-of-type {\n",
       "        vertical-align: middle;\n",
       "    }\n",
       "\n",
       "    .dataframe tbody tr th {\n",
       "        vertical-align: top;\n",
       "    }\n",
       "\n",
       "    .dataframe thead th {\n",
       "        text-align: right;\n",
       "    }\n",
       "</style>\n",
       "<table border=\"1\" class=\"dataframe\">\n",
       "  <thead>\n",
       "    <tr style=\"text-align: right;\">\n",
       "      <th></th>\n",
       "      <th>transaction_id</th>\n",
       "      <th>product_type</th>\n",
       "      <th>region</th>\n",
       "      <th>amount</th>\n",
       "      <th>transaction_date</th>\n",
       "    </tr>\n",
       "  </thead>\n",
       "  <tbody>\n",
       "    <tr>\n",
       "      <th>0</th>\n",
       "      <td>1</td>\n",
       "      <td>Renters</td>\n",
       "      <td>West</td>\n",
       "      <td>21.52</td>\n",
       "      <td>2024-01-21</td>\n",
       "    </tr>\n",
       "    <tr>\n",
       "      <th>1</th>\n",
       "      <td>2</td>\n",
       "      <td>Renters</td>\n",
       "      <td>Northeast</td>\n",
       "      <td>12.76</td>\n",
       "      <td>2024-03-28</td>\n",
       "    </tr>\n",
       "    <tr>\n",
       "      <th>2</th>\n",
       "      <td>3</td>\n",
       "      <td>Renters</td>\n",
       "      <td>Northeast</td>\n",
       "      <td>20.46</td>\n",
       "      <td>2024-11-04</td>\n",
       "    </tr>\n",
       "    <tr>\n",
       "      <th>3</th>\n",
       "      <td>4</td>\n",
       "      <td>Flood</td>\n",
       "      <td>South</td>\n",
       "      <td>91.27</td>\n",
       "      <td>2024-07-10</td>\n",
       "    </tr>\n",
       "    <tr>\n",
       "      <th>4</th>\n",
       "      <td>5</td>\n",
       "      <td>Flood</td>\n",
       "      <td>South</td>\n",
       "      <td>197.09</td>\n",
       "      <td>2024-09-09</td>\n",
       "    </tr>\n",
       "  </tbody>\n",
       "</table>\n",
       "</div>"
      ],
      "text/plain": [
       "   transaction_id product_type     region  amount transaction_date\n",
       "0               1      Renters       West   21.52       2024-01-21\n",
       "1               2      Renters  Northeast   12.76       2024-03-28\n",
       "2               3      Renters  Northeast   20.46       2024-11-04\n",
       "3               4        Flood      South   91.27       2024-07-10\n",
       "4               5        Flood      South  197.09       2024-09-09"
      ]
     },
     "execution_count": 2,
     "metadata": {},
     "output_type": "execute_result"
    }
   ],
   "source": [
    "path = \"C:/Users/tokud/Projects/Insurance Linear Regression/transactions.csv\"\n",
    "\n",
    "df = pd.read_csv(path)\n",
    "print(df.shape)\n",
    "df.head()"
   ]
  },
  {
   "cell_type": "code",
   "execution_count": 3,
   "id": "d65bb675",
   "metadata": {},
   "outputs": [
    {
     "data": {
      "text/plain": [
       "count    100000.00000\n",
       "mean         51.29256\n",
       "std          68.42494\n",
       "min          12.00000\n",
       "25%          16.03000\n",
       "50%          20.12000\n",
       "75%          24.20000\n",
       "max         299.95000\n",
       "Name: amount, dtype: float64"
      ]
     },
     "execution_count": 3,
     "metadata": {},
     "output_type": "execute_result"
    }
   ],
   "source": [
    "df['amount'].describe()"
   ]
  },
  {
   "cell_type": "code",
   "execution_count": 4,
   "id": "b6c4caae",
   "metadata": {},
   "outputs": [
    {
     "name": "stdout",
     "output_type": "stream",
     "text": [
      "<class 'pandas.core.frame.DataFrame'>\n",
      "RangeIndex: 100000 entries, 0 to 99999\n",
      "Data columns (total 5 columns):\n",
      " #   Column            Non-Null Count   Dtype  \n",
      "---  ------            --------------   -----  \n",
      " 0   transaction_id    100000 non-null  int64  \n",
      " 1   product_type      100000 non-null  object \n",
      " 2   region            100000 non-null  object \n",
      " 3   amount            100000 non-null  float64\n",
      " 4   transaction_date  100000 non-null  object \n",
      "dtypes: float64(1), int64(1), object(3)\n",
      "memory usage: 3.8+ MB\n"
     ]
    }
   ],
   "source": [
    "df.info()"
   ]
  },
  {
   "cell_type": "code",
   "execution_count": 5,
   "id": "abbec0dd",
   "metadata": {},
   "outputs": [],
   "source": [
    "df['transaction_date'] = pd.to_datetime(df['transaction_date'])\n",
    "\n",
    "df['month_index'] = (\n",
    "    (df['transaction_date'].dt.year - df['transaction_date'].dt.year.min()) * 12\n",
    "    + df['transaction_date'].dt.month\n",
    ")"
   ]
  },
  {
   "cell_type": "code",
   "execution_count": 6,
   "id": "adad2b58",
   "metadata": {},
   "outputs": [
    {
     "name": "stdout",
     "output_type": "stream",
     "text": [
      "<class 'pandas.core.frame.DataFrame'>\n",
      "RangeIndex: 100000 entries, 0 to 99999\n",
      "Data columns (total 6 columns):\n",
      " #   Column            Non-Null Count   Dtype         \n",
      "---  ------            --------------   -----         \n",
      " 0   transaction_id    100000 non-null  int64         \n",
      " 1   product_type      100000 non-null  object        \n",
      " 2   region            100000 non-null  object        \n",
      " 3   amount            100000 non-null  float64       \n",
      " 4   transaction_date  100000 non-null  datetime64[ns]\n",
      " 5   month_index       100000 non-null  int32         \n",
      "dtypes: datetime64[ns](1), float64(1), int32(1), int64(1), object(2)\n",
      "memory usage: 4.2+ MB\n"
     ]
    }
   ],
   "source": [
    "df.info()"
   ]
  },
  {
   "cell_type": "code",
   "execution_count": 7,
   "id": "bc92cdb7",
   "metadata": {},
   "outputs": [
    {
     "data": {
      "text/plain": [
       "array([ 1,  3, 11,  7,  9, 16, 19, 13, 12, 15, 14,  2,  4, 21, 17,  8, 18,\n",
       "        6, 20, 10,  5], dtype=int32)"
      ]
     },
     "execution_count": 7,
     "metadata": {},
     "output_type": "execute_result"
    }
   ],
   "source": [
    "df['month_index'].unique()"
   ]
  },
  {
   "cell_type": "code",
   "execution_count": 8,
   "id": "9095c5ba",
   "metadata": {},
   "outputs": [
    {
     "data": {
      "text/html": [
       "<div>\n",
       "<style scoped>\n",
       "    .dataframe tbody tr th:only-of-type {\n",
       "        vertical-align: middle;\n",
       "    }\n",
       "\n",
       "    .dataframe tbody tr th {\n",
       "        vertical-align: top;\n",
       "    }\n",
       "\n",
       "    .dataframe thead th {\n",
       "        text-align: right;\n",
       "    }\n",
       "</style>\n",
       "<table border=\"1\" class=\"dataframe\">\n",
       "  <thead>\n",
       "    <tr style=\"text-align: right;\">\n",
       "      <th></th>\n",
       "      <th>region</th>\n",
       "      <th>product_type</th>\n",
       "      <th>amount</th>\n",
       "    </tr>\n",
       "  </thead>\n",
       "  <tbody>\n",
       "    <tr>\n",
       "      <th>1</th>\n",
       "      <td>Midwest</td>\n",
       "      <td>Homeowners</td>\n",
       "      <td>593218.05</td>\n",
       "    </tr>\n",
       "    <tr>\n",
       "      <th>2</th>\n",
       "      <td>Midwest</td>\n",
       "      <td>Renters</td>\n",
       "      <td>262138.79</td>\n",
       "    </tr>\n",
       "    <tr>\n",
       "      <th>0</th>\n",
       "      <td>Midwest</td>\n",
       "      <td>Flood</td>\n",
       "      <td>89402.09</td>\n",
       "    </tr>\n",
       "    <tr>\n",
       "      <th>4</th>\n",
       "      <td>Northeast</td>\n",
       "      <td>Homeowners</td>\n",
       "      <td>485088.32</td>\n",
       "    </tr>\n",
       "    <tr>\n",
       "      <th>5</th>\n",
       "      <td>Northeast</td>\n",
       "      <td>Renters</td>\n",
       "      <td>276878.69</td>\n",
       "    </tr>\n",
       "    <tr>\n",
       "      <th>3</th>\n",
       "      <td>Northeast</td>\n",
       "      <td>Flood</td>\n",
       "      <td>123797.51</td>\n",
       "    </tr>\n",
       "    <tr>\n",
       "      <th>7</th>\n",
       "      <td>South</td>\n",
       "      <td>Homeowners</td>\n",
       "      <td>1081985.94</td>\n",
       "    </tr>\n",
       "    <tr>\n",
       "      <th>8</th>\n",
       "      <td>South</td>\n",
       "      <td>Renters</td>\n",
       "      <td>549990.89</td>\n",
       "    </tr>\n",
       "    <tr>\n",
       "      <th>6</th>\n",
       "      <td>South</td>\n",
       "      <td>Flood</td>\n",
       "      <td>545811.48</td>\n",
       "    </tr>\n",
       "    <tr>\n",
       "      <th>10</th>\n",
       "      <td>West</td>\n",
       "      <td>Homeowners</td>\n",
       "      <td>648442.14</td>\n",
       "    </tr>\n",
       "    <tr>\n",
       "      <th>11</th>\n",
       "      <td>West</td>\n",
       "      <td>Renters</td>\n",
       "      <td>387643.62</td>\n",
       "    </tr>\n",
       "    <tr>\n",
       "      <th>9</th>\n",
       "      <td>West</td>\n",
       "      <td>Flood</td>\n",
       "      <td>84858.49</td>\n",
       "    </tr>\n",
       "  </tbody>\n",
       "</table>\n",
       "</div>"
      ],
      "text/plain": [
       "       region product_type      amount\n",
       "1     Midwest   Homeowners   593218.05\n",
       "2     Midwest      Renters   262138.79\n",
       "0     Midwest        Flood    89402.09\n",
       "4   Northeast   Homeowners   485088.32\n",
       "5   Northeast      Renters   276878.69\n",
       "3   Northeast        Flood   123797.51\n",
       "7       South   Homeowners  1081985.94\n",
       "8       South      Renters   549990.89\n",
       "6       South        Flood   545811.48\n",
       "10       West   Homeowners   648442.14\n",
       "11       West      Renters   387643.62\n",
       "9        West        Flood    84858.49"
      ]
     },
     "execution_count": 8,
     "metadata": {},
     "output_type": "execute_result"
    }
   ],
   "source": [
    "df_group_sum = (\n",
    "    df.groupby(['region','product_type'], observed=True)['amount']\n",
    "    .sum()\n",
    "    .reset_index()\n",
    "    .sort_values(['region', 'amount'], ascending=[True, False])\n",
    ")\n",
    "df_group_sum"
   ]
  },
  {
   "cell_type": "code",
   "execution_count": 9,
   "id": "84fe5bda",
   "metadata": {},
   "outputs": [
    {
     "data": {
      "text/html": [
       "<div>\n",
       "<style scoped>\n",
       "    .dataframe tbody tr th:only-of-type {\n",
       "        vertical-align: middle;\n",
       "    }\n",
       "\n",
       "    .dataframe tbody tr th {\n",
       "        vertical-align: top;\n",
       "    }\n",
       "\n",
       "    .dataframe thead th {\n",
       "        text-align: right;\n",
       "    }\n",
       "</style>\n",
       "<table border=\"1\" class=\"dataframe\">\n",
       "  <thead>\n",
       "    <tr style=\"text-align: right;\">\n",
       "      <th></th>\n",
       "      <th>region</th>\n",
       "      <th>product_type</th>\n",
       "      <th>amount</th>\n",
       "    </tr>\n",
       "  </thead>\n",
       "  <tbody>\n",
       "    <tr>\n",
       "      <th>1</th>\n",
       "      <td>Midwest</td>\n",
       "      <td>Homeowners</td>\n",
       "      <td>187.371462</td>\n",
       "    </tr>\n",
       "    <tr>\n",
       "      <th>0</th>\n",
       "      <td>Midwest</td>\n",
       "      <td>Flood</td>\n",
       "      <td>163.740092</td>\n",
       "    </tr>\n",
       "    <tr>\n",
       "      <th>2</th>\n",
       "      <td>Midwest</td>\n",
       "      <td>Renters</td>\n",
       "      <td>18.466981</td>\n",
       "    </tr>\n",
       "    <tr>\n",
       "      <th>4</th>\n",
       "      <td>Northeast</td>\n",
       "      <td>Homeowners</td>\n",
       "      <td>187.727678</td>\n",
       "    </tr>\n",
       "    <tr>\n",
       "      <th>3</th>\n",
       "      <td>Northeast</td>\n",
       "      <td>Flood</td>\n",
       "      <td>165.948405</td>\n",
       "    </tr>\n",
       "    <tr>\n",
       "      <th>5</th>\n",
       "      <td>Northeast</td>\n",
       "      <td>Renters</td>\n",
       "      <td>18.458579</td>\n",
       "    </tr>\n",
       "    <tr>\n",
       "      <th>7</th>\n",
       "      <td>South</td>\n",
       "      <td>Homeowners</td>\n",
       "      <td>187.194799</td>\n",
       "    </tr>\n",
       "    <tr>\n",
       "      <th>6</th>\n",
       "      <td>South</td>\n",
       "      <td>Flood</td>\n",
       "      <td>165.497720</td>\n",
       "    </tr>\n",
       "    <tr>\n",
       "      <th>8</th>\n",
       "      <td>South</td>\n",
       "      <td>Renters</td>\n",
       "      <td>18.488332</td>\n",
       "    </tr>\n",
       "    <tr>\n",
       "      <th>10</th>\n",
       "      <td>West</td>\n",
       "      <td>Homeowners</td>\n",
       "      <td>187.573659</td>\n",
       "    </tr>\n",
       "    <tr>\n",
       "      <th>9</th>\n",
       "      <td>West</td>\n",
       "      <td>Flood</td>\n",
       "      <td>165.739238</td>\n",
       "    </tr>\n",
       "    <tr>\n",
       "      <th>11</th>\n",
       "      <td>West</td>\n",
       "      <td>Renters</td>\n",
       "      <td>18.487391</td>\n",
       "    </tr>\n",
       "  </tbody>\n",
       "</table>\n",
       "</div>"
      ],
      "text/plain": [
       "       region product_type      amount\n",
       "1     Midwest   Homeowners  187.371462\n",
       "0     Midwest        Flood  163.740092\n",
       "2     Midwest      Renters   18.466981\n",
       "4   Northeast   Homeowners  187.727678\n",
       "3   Northeast        Flood  165.948405\n",
       "5   Northeast      Renters   18.458579\n",
       "7       South   Homeowners  187.194799\n",
       "6       South        Flood  165.497720\n",
       "8       South      Renters   18.488332\n",
       "10       West   Homeowners  187.573659\n",
       "9        West        Flood  165.739238\n",
       "11       West      Renters   18.487391"
      ]
     },
     "execution_count": 9,
     "metadata": {},
     "output_type": "execute_result"
    }
   ],
   "source": [
    "df_group_mean = (\n",
    "    df.groupby(['region','product_type'], observed=True)['amount']\n",
    "    .mean()\n",
    "    .reset_index()\n",
    "    .sort_values(['region', 'amount'], ascending=[True, False])\n",
    ")\n",
    "df_group_mean"
   ]
  },
  {
   "cell_type": "code",
   "execution_count": 10,
   "id": "ee6a8db2",
   "metadata": {},
   "outputs": [
    {
     "data": {
      "text/html": [
       "<div>\n",
       "<style scoped>\n",
       "    .dataframe tbody tr th:only-of-type {\n",
       "        vertical-align: middle;\n",
       "    }\n",
       "\n",
       "    .dataframe tbody tr th {\n",
       "        vertical-align: top;\n",
       "    }\n",
       "\n",
       "    .dataframe thead th {\n",
       "        text-align: right;\n",
       "    }\n",
       "</style>\n",
       "<table border=\"1\" class=\"dataframe\">\n",
       "  <thead>\n",
       "    <tr style=\"text-align: right;\">\n",
       "      <th></th>\n",
       "      <th>month_index</th>\n",
       "      <th>product_type</th>\n",
       "      <th>amount</th>\n",
       "    </tr>\n",
       "  </thead>\n",
       "  <tbody>\n",
       "    <tr>\n",
       "      <th>1</th>\n",
       "      <td>1</td>\n",
       "      <td>Homeowners</td>\n",
       "      <td>145362.08</td>\n",
       "    </tr>\n",
       "    <tr>\n",
       "      <th>2</th>\n",
       "      <td>1</td>\n",
       "      <td>Renters</td>\n",
       "      <td>71426.30</td>\n",
       "    </tr>\n",
       "    <tr>\n",
       "      <th>0</th>\n",
       "      <td>1</td>\n",
       "      <td>Flood</td>\n",
       "      <td>41574.47</td>\n",
       "    </tr>\n",
       "    <tr>\n",
       "      <th>4</th>\n",
       "      <td>2</td>\n",
       "      <td>Homeowners</td>\n",
       "      <td>130005.79</td>\n",
       "    </tr>\n",
       "    <tr>\n",
       "      <th>5</th>\n",
       "      <td>2</td>\n",
       "      <td>Renters</td>\n",
       "      <td>68607.85</td>\n",
       "    </tr>\n",
       "    <tr>\n",
       "      <th>...</th>\n",
       "      <td>...</td>\n",
       "      <td>...</td>\n",
       "      <td>...</td>\n",
       "    </tr>\n",
       "    <tr>\n",
       "      <th>59</th>\n",
       "      <td>20</td>\n",
       "      <td>Renters</td>\n",
       "      <td>70394.08</td>\n",
       "    </tr>\n",
       "    <tr>\n",
       "      <th>57</th>\n",
       "      <td>20</td>\n",
       "      <td>Flood</td>\n",
       "      <td>42620.93</td>\n",
       "    </tr>\n",
       "    <tr>\n",
       "      <th>61</th>\n",
       "      <td>21</td>\n",
       "      <td>Homeowners</td>\n",
       "      <td>123683.53</td>\n",
       "    </tr>\n",
       "    <tr>\n",
       "      <th>62</th>\n",
       "      <td>21</td>\n",
       "      <td>Renters</td>\n",
       "      <td>69882.90</td>\n",
       "    </tr>\n",
       "    <tr>\n",
       "      <th>60</th>\n",
       "      <td>21</td>\n",
       "      <td>Flood</td>\n",
       "      <td>37553.46</td>\n",
       "    </tr>\n",
       "  </tbody>\n",
       "</table>\n",
       "<p>63 rows × 3 columns</p>\n",
       "</div>"
      ],
      "text/plain": [
       "    month_index product_type     amount\n",
       "1             1   Homeowners  145362.08\n",
       "2             1      Renters   71426.30\n",
       "0             1        Flood   41574.47\n",
       "4             2   Homeowners  130005.79\n",
       "5             2      Renters   68607.85\n",
       "..          ...          ...        ...\n",
       "59           20      Renters   70394.08\n",
       "57           20        Flood   42620.93\n",
       "61           21   Homeowners  123683.53\n",
       "62           21      Renters   69882.90\n",
       "60           21        Flood   37553.46\n",
       "\n",
       "[63 rows x 3 columns]"
      ]
     },
     "execution_count": 10,
     "metadata": {},
     "output_type": "execute_result"
    }
   ],
   "source": [
    "df_product = (\n",
    "    df.groupby(['month_index','product_type'], observed=True)['amount']\n",
    "    .sum()\n",
    "    .reset_index()\n",
    "    .sort_values(['month_index', 'amount'], ascending=[True, False])\n",
    ")\n",
    "df_product"
   ]
  },
  {
   "cell_type": "code",
   "execution_count": 11,
   "id": "a53cd92c",
   "metadata": {},
   "outputs": [
    {
     "data": {
      "image/png": "[encoded data removed]",
      "text/plain": [
       "<Figure size 1000x600 with 1 Axes>"
      ]
     },
     "metadata": {},
     "output_type": "display_data"
    }
   ],
   "source": [
    "from sklearn.linear_model import LinearRegression\n",
    "\n",
    "plt.figure(figsize=(10,6))\n",
    "  \n",
    "for product, group in df_product.groupby('product_type'):\n",
    "    plt.plot(group['month_index'], group['amount'], label=f\"{product} Actual\", marker='o')\n",
    "    \n",
    "    X_future = np.array([22, 23, 24])\n",
    "    y_future = LinearRegression().fit(group['month_index'].values.reshape(-1,1), \n",
    "                                        group['amount']).predict(X_future.reshape(-1,1))\n",
    "        \n",
    "    plt.plot(X_future, y_future, 'r--', label=f\"{product} Forecast\")\n",
    "  \n",
    "plt.title(\"Forecast Q4 2025\")\n",
    "plt.xlabel(\"Month Number\")\n",
    "plt.ylabel(\"Transaction Amount\")\n",
    "plt.legend(fontsize='x-small')\n",
    "plt.tight_layout()\n",
    "plt.show()   "
   ]
  },
  {
   "cell_type": "code",
   "execution_count": 12,
   "id": "86e0d97c",
   "metadata": {},
   "outputs": [
    {
     "data": {
      "text/html": [
       "<div>\n",
       "<style scoped>\n",
       "    .dataframe tbody tr th:only-of-type {\n",
       "        vertical-align: middle;\n",
       "    }\n",
       "\n",
       "    .dataframe tbody tr th {\n",
       "        vertical-align: top;\n",
       "    }\n",
       "\n",
       "    .dataframe thead th {\n",
       "        text-align: right;\n",
       "    }\n",
       "</style>\n",
       "<table border=\"1\" class=\"dataframe\">\n",
       "  <thead>\n",
       "    <tr style=\"text-align: right;\">\n",
       "      <th></th>\n",
       "      <th>transaction_id</th>\n",
       "      <th>amount</th>\n",
       "      <th>transaction_date</th>\n",
       "      <th>month_index</th>\n",
       "      <th>product_Flood</th>\n",
       "      <th>product_Homeowners</th>\n",
       "      <th>product_Renters</th>\n",
       "      <th>region_Midwest</th>\n",
       "      <th>region_Northeast</th>\n",
       "      <th>region_South</th>\n",
       "      <th>region_West</th>\n",
       "    </tr>\n",
       "  </thead>\n",
       "  <tbody>\n",
       "    <tr>\n",
       "      <th>0</th>\n",
       "      <td>1</td>\n",
       "      <td>21.52</td>\n",
       "      <td>2024-01-21</td>\n",
       "      <td>1</td>\n",
       "      <td>0</td>\n",
       "      <td>0</td>\n",
       "      <td>1</td>\n",
       "      <td>0</td>\n",
       "      <td>0</td>\n",
       "      <td>0</td>\n",
       "      <td>1</td>\n",
       "    </tr>\n",
       "    <tr>\n",
       "      <th>1</th>\n",
       "      <td>2</td>\n",
       "      <td>12.76</td>\n",
       "      <td>2024-03-28</td>\n",
       "      <td>3</td>\n",
       "      <td>0</td>\n",
       "      <td>0</td>\n",
       "      <td>1</td>\n",
       "      <td>0</td>\n",
       "      <td>1</td>\n",
       "      <td>0</td>\n",
       "      <td>0</td>\n",
       "    </tr>\n",
       "    <tr>\n",
       "      <th>2</th>\n",
       "      <td>3</td>\n",
       "      <td>20.46</td>\n",
       "      <td>2024-11-04</td>\n",
       "      <td>11</td>\n",
       "      <td>0</td>\n",
       "      <td>0</td>\n",
       "      <td>1</td>\n",
       "      <td>0</td>\n",
       "      <td>1</td>\n",
       "      <td>0</td>\n",
       "      <td>0</td>\n",
       "    </tr>\n",
       "    <tr>\n",
       "      <th>3</th>\n",
       "      <td>4</td>\n",
       "      <td>91.27</td>\n",
       "      <td>2024-07-10</td>\n",
       "      <td>7</td>\n",
       "      <td>1</td>\n",
       "      <td>0</td>\n",
       "      <td>0</td>\n",
       "      <td>0</td>\n",
       "      <td>0</td>\n",
       "      <td>1</td>\n",
       "      <td>0</td>\n",
       "    </tr>\n",
       "    <tr>\n",
       "      <th>4</th>\n",
       "      <td>5</td>\n",
       "      <td>197.09</td>\n",
       "      <td>2024-09-09</td>\n",
       "      <td>9</td>\n",
       "      <td>1</td>\n",
       "      <td>0</td>\n",
       "      <td>0</td>\n",
       "      <td>0</td>\n",
       "      <td>0</td>\n",
       "      <td>1</td>\n",
       "      <td>0</td>\n",
       "    </tr>\n",
       "  </tbody>\n",
       "</table>\n",
       "</div>"
      ],
      "text/plain": [
       "   transaction_id  amount transaction_date  month_index  product_Flood  \\\n",
       "0               1   21.52       2024-01-21            1              0   \n",
       "1               2   12.76       2024-03-28            3              0   \n",
       "2               3   20.46       2024-11-04           11              0   \n",
       "3               4   91.27       2024-07-10            7              1   \n",
       "4               5  197.09       2024-09-09            9              1   \n",
       "\n",
       "   product_Homeowners  product_Renters  region_Midwest  region_Northeast  \\\n",
       "0                   0                1               0                 0   \n",
       "1                   0                1               0                 1   \n",
       "2                   0                1               0                 1   \n",
       "3                   0                0               0                 0   \n",
       "4                   0                0               0                 0   \n",
       "\n",
       "   region_South  region_West  \n",
       "0             0            1  \n",
       "1             0            0  \n",
       "2             0            0  \n",
       "3             1            0  \n",
       "4             1            0  "
      ]
     },
     "execution_count": 12,
     "metadata": {},
     "output_type": "execute_result"
    }
   ],
   "source": [
    "df_dummies = pd.get_dummies(df, columns=['product_type', 'region'], prefix=['product', 'region'], dtype=int)\n",
    "\n",
    "df_dummies.head()"
   ]
  },
  {
   "cell_type": "code",
   "execution_count": 14,
   "id": "bc6e0915",
   "metadata": {},
   "outputs": [],
   "source": [
    "path = \"C:/Users/tokud/Projects/Insurance Linear Regression/training.csv\"\n",
    "\n",
    "df_dummies.to_csv(path, index=False)"
   ]
  },
  {
   "cell_type": "code",
   "execution_count": 15,
   "id": "ddc8ef29",
   "metadata": {},
   "outputs": [
    {
     "data": {
      "text/plain": [
       "Index(['transaction_id', 'amount', 'transaction_date', 'month_index',\n",
       "       'product_Flood', 'product_Homeowners', 'product_Renters',\n",
       "       'region_Midwest', 'region_Northeast', 'region_South', 'region_West'],\n",
       "      dtype='object')"
      ]
     },
     "execution_count": 15,
     "metadata": {},
     "output_type": "execute_result"
    }
   ],
   "source": [
    "df_dummies.columns"
   ]
  },
  {
   "cell_type": "code",
   "execution_count": 16,
   "id": "5aae122f",
   "metadata": {},
   "outputs": [],
   "source": [
    "features = ['month_index', 'product_Flood', 'product_Homeowners', 'product_Renters',\n",
    "       'region_Midwest', 'region_Northeast', 'region_South', 'region_West']"
   ]
  },
  {
   "cell_type": "code",
   "execution_count": 17,
   "id": "b07d259b",
   "metadata": {},
   "outputs": [
    {
     "name": "stdout",
     "output_type": "stream",
     "text": [
      "(80000, 8) \n",
      "\n",
      "(20000, 8) \n",
      "\n",
      "(80000,) \n",
      "\n",
      "(20000,)\n"
     ]
    }
   ],
   "source": [
    "from sklearn.model_selection import train_test_split\n",
    "from sklearn.metrics import mean_squared_error, r2_score\n",
    "\n",
    "X = df_dummies[features]\n",
    "y = df_dummies['amount']\n",
    "\n",
    "X_train, X_test, y_train, y_test = train_test_split(X, y, test_size=0.2, random_state=42)\n",
    "\n",
    "print(X_train.shape, \"\\n\")\n",
    "print(X_test.shape, \"\\n\")\n",
    "print(y_train.shape, \"\\n\")\n",
    "print(y_test.shape)"
   ]
  },
  {
   "cell_type": "code",
   "execution_count": 18,
   "id": "59ce3520",
   "metadata": {},
   "outputs": [
    {
     "name": "stdout",
     "output_type": "stream",
     "text": [
      "Mean Squared Error: 19.669961635557726\n",
      "R-Squared Error: 91.84768517552435\n"
     ]
    }
   ],
   "source": [
    "model = LinearRegression().fit(X_train, y_train)\n",
    "\n",
    "y_pred = model.predict(X_test)\n",
    "\n",
    "mse = mean_squared_error(y_test, y_pred)\n",
    "r2 = r2_score(y_test, y_pred)\n",
    "\n",
    "print(f\"Mean Squared Error: {math.sqrt(mse)}\")\n",
    "print(f\"R-Squared Error: {(r2)*100}\")"
   ]
  },
  {
   "cell_type": "code",
   "execution_count": 19,
   "id": "e4d1cf75",
   "metadata": {},
   "outputs": [
    {
     "name": "stdout",
     "output_type": "stream",
     "text": [
      "Train R-Squared: 91.88340042727381\n",
      "Test R-Squared: 91.84768517552435\n"
     ]
    }
   ],
   "source": [
    "train_r2 = model.score(X_train, y_train)\n",
    "test_r2 = model.score(X_test, y_test)\n",
    "\n",
    "print(\"Train R-Squared:\", (train_r2)*100)\n",
    "print(\"Test R-Squared:\", (test_r2)*100)"
   ]
  }
 ],
 "metadata": {
  "kernelspec": {
   "display_name": "venv",
   "language": "python",
   "name": "python3"
  },
  "language_info": {
   "codemirror_mode": {
    "name": "ipython",
    "version": 3
   },
   "file_extension": ".py",
   "mimetype": "text/x-python",
   "name": "python",
   "nbconvert_exporter": "python",
   "pygments_lexer": "ipython3",
   "version": "3.13.7"
  }
 },
 "nbformat": 4,
 "nbformat_minor": 5
}
